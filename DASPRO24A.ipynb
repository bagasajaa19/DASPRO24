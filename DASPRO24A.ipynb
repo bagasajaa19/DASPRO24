{
 "cells": [
  {
   "cell_type": "code",
   "execution_count": 4,
   "id": "c385bebf",
   "metadata": {},
   "outputs": [
    {
     "name": "stdout",
     "output_type": "stream",
     "text": [
      "nama : BAGAS\n",
      "umur: 19\n",
      "alamat: Jl. Benteng\n",
      "nilai pemrograman : 80.5\n",
      "status menikah : False\n"
     ]
    }
   ],
   "source": [
    "name = \"BAGAS\"\n",
    "age = 19\n",
    "addreas,province = \"Jl. Benteng\",\"75645666\"\n",
    "scorePython = 80.5\n",
    "isMarried = False\n",
    "\n",
    "print(\"nama :\",name)\n",
    "print(\"umur:\", age)\n",
    "print(\"alamat:\",addreas)\n",
    "print(\"nilai pemrograman :\",scorePython)\n",
    "print(\"status menikah :\", isMarried)\n"
   ]
  },
  {
   "cell_type": "code",
   "execution_count": 5,
   "id": "ca4b694b",
   "metadata": {},
   "outputs": [
    {
     "name": "stdout",
     "output_type": "stream",
     "text": [
      "Tipe data <name> <class 'str'>\n",
      "Tipe data <age> <class 'int'>\n",
      "Tipe data <addreas> <class 'str'>\n",
      "Tipe data <province> <class 'str'>\n",
      "Tipe data <scorePython> <class 'float'>\n",
      "Tipe data <isMarried> <class 'bool'>\n"
     ]
    }
   ],
   "source": [
    "print(\"Tipe data <name>\",type(name))\n",
    "print(\"Tipe data <age>\",type(age))\n",
    "print(\"Tipe data <addreas>\",type(addreas))\n",
    "print(\"Tipe data <province>\",type(province))\n",
    "print(\"Tipe data <scorePython>\",type(scorePython))\n",
    "print(\"Tipe data <isMarried>\",type(isMarried))"
   ]
  },
  {
   "cell_type": "code",
   "execution_count": 15,
   "id": "6a6412e3",
   "metadata": {},
   "outputs": [
    {
     "name": "stdout",
     "output_type": "stream",
     "text": [
      "75645666-75645666.0-True\n",
      "19-19.0-True\n",
      "80.5-80.5-80.5\n",
      "False-False-False\n"
     ]
    }
   ],
   "source": [
    "#Casting atau Konversi Tipe Data\n",
    "#Konversi dari String ke (int,float,bool)\n",
    "strToInt = int(province)\n",
    "strToFloat = float(province)\n",
    "strToBool = bool(province)\n",
    "print(strToInt,strToFloat,strToBool, sep=\"-\")\n",
    "#Konversi dari int ke (str,float,bool)\n",
    "intToStr = str(age)\n",
    "intToFloat = float(age)\n",
    "intToBool =  bool(age)\n",
    "print(intToStr,intToFloat,intToBool, sep=\"-\")\n",
    "#Konversi dari float ke (str,int,bool)\n",
    "floatToStr = float(scorePython)\n",
    "floatToInt = float(scorePython)\n",
    "floatToBool = float(scorePython)\n",
    "print(floatToStr,floatToInt,floatToBool, sep=\"-\")\n",
    "#Konversi dari bool ke (int,float,str)\n",
    "boolToInt = bool(isMarried)\n",
    "boolToFloat = bool(isMarried)\n",
    "boolToStr = bool(isMarried)\n",
    "print(boolToInt,boolToFloat,boolToStr, sep=\"-\")"
   ]
  },
  {
   "cell_type": "code",
   "execution_count": 16,
   "id": "46a2dbd3",
   "metadata": {},
   "outputs": [
    {
     "name": "stdout",
     "output_type": "stream",
     "text": [
      "B\n",
      "g\n"
     ]
    }
   ],
   "source": [
    "city = \"Bandung\"\n",
    "lenCity = len(city) \n",
    "print(city[0])\n",
    "print(city[lenCity-1])"
   ]
  },
  {
   "cell_type": "code",
   "execution_count": 17,
   "id": "48277ba9",
   "metadata": {},
   "outputs": [
    {
     "name": "stdout",
     "output_type": "stream",
     "text": [
      "Nilai Desimal: 200\n",
      "Nilai Desimal dari 0xff 255\n",
      "Nilai Desimal dari 0b1010 10\n",
      "Nilai Desimal dari 0o377 255\n",
      "================\n",
      "Nilai Biner dari : 200 0b11001000\n",
      "Nilai Octal dari : 200 0o310\n",
      "Nilai Hexa dari : 200 0xc8\n"
     ]
    }
   ],
   "source": [
    "desimal = 200\n",
    "hexa = 0xff\n",
    "biner = 0b1010\n",
    "octal = 0o377\n",
    "\n",
    "print(\"Nilai Desimal:\", desimal)\n",
    "print(\"Nilai Desimal dari 0xff\", hexa)\n",
    "print(\"Nilai Desimal dari 0b1010\", biner)\n",
    "print(\"Nilai Desimal dari 0o377\", octal)\n",
    "print(\"================\")\n",
    "print(\"Nilai Biner dari :\",desimal,bin(desimal))\n",
    "print(\"Nilai Octal dari :\",desimal,oct(desimal))\n",
    "print(\"Nilai Hexa dari :\",desimal,hex(desimal))"
   ]
  },
  {
   "cell_type": "code",
   "execution_count": 40,
   "id": "c21754b7",
   "metadata": {},
   "outputs": [
    {
     "name": "stdout",
     "output_type": "stream",
     "text": [
      "['Sukabumi', 'Bandung', 'Bogor', 'Cianjur']\n",
      "Sukabumi\n",
      "Cianjur\n",
      "['Sukabumi', 'Semarang', 'Bogor', 'Cianjur']\n",
      "C\n",
      "('Andi', 'Budi', 'Caca')\n",
      "{'name': 'Budi', 'addreass': {'street': 'Caringin', 'number': 25, 'province': 'north java'}, 'hobbies': ['basket', 'football'], 'age': 35, 'isMarried': True}\n",
      "north java\n"
     ]
    }
   ],
   "source": [
    "#Tipe Data Collection\n",
    "\n",
    "cities = [\"Sukabumi\", \"Bandung\", \"Bogor\", \"Cianjur\"]\n",
    "print(cities)\n",
    "print(cities[0])\n",
    "print(cities[len(cities)-1])\n",
    "cities[1] = \"Semarang\"\n",
    "print(cities)\n",
    "print(cities[len(cities)-1][0])\n",
    "\n",
    "#Tuple\n",
    "names =(\"Andi\", \"Budi\" ,\"Caca\")\n",
    "print(names)\n",
    "#names[0] = \"Rudi akan menyebabkan error, karena Tuple adalah Imutable\"\n",
    "ListStudent = {\n",
    "    \n",
    "}\n",
    "studentData = {\n",
    "    \"name\" : \"Dedi\",\n",
    "    \"addreass\" : {\n",
    "        \"street\" : \"Cibatu\",\n",
    "        \"number\" : 21,\n",
    "        \"province\" : \"west java\"\n",
    "    },\n",
    "    \"hobbies\" : [\"basket\",\"football\"],\n",
    "    \"age\" : 15,\n",
    "    \"isMarried\" : False\n",
    "}\n",
    "studentData = {\n",
    "    \"name\" : \"Budi\",\n",
    "    \"addreass\" : {\n",
    "        \"street\" : \"Caringin\",\n",
    "        \"number\" : 25,\n",
    "        \"province\" : \"north java\"\n",
    "    },\n",
    "    \"hobbies\" : [\"basket\",\"football\"],\n",
    "    \"age\" : 35,\n",
    "    \"isMarried\" : True\n",
    "}\n",
    "print(studentData)\n",
    "print(studentData[\"addreass\"][\"province\"])\n"
   ]
  },
  {
   "cell_type": "code",
   "execution_count": 41,
   "id": "bcdea90f",
   "metadata": {},
   "outputs": [
    {
     "name": "stdout",
     "output_type": "stream",
     "text": [
      "{'name': 'dika', 'nilai': '80'}\n",
      "{'buah': 'apel', 'harga': '10000'}\n"
     ]
    }
   ],
   "source": [
    "#Casting Dictionary\n",
    "\n",
    "list_tuple = [(\"name\",\"dika\"),(\"nilai\",\"\")]\n",
    "dictStudent = dict(list_tuple)\n",
    "print(dictStudent)\n",
    "\n",
    "list_list = [(\"buah\",\"apel\"),(\"harga\",\"99999\")]\n",
    "dictBuah = dict(list_list)\n",
    "print(dictBuah)\n",
    "\n",
    "tuple_tuple = ...\n",
    "tuple_list = ..."
   ]
  }
 ],
 "metadata": {
  "kernelspec": {
   "display_name": "Python 3 (ipykernel)",
   "language": "python",
   "name": "python3"
  },
  "language_info": {
   "codemirror_mode": {
    "name": "ipython",
    "version": 3
   },
   "file_extension": ".py",
   "mimetype": "text/x-python",
   "name": "python",
   "nbconvert_exporter": "python",
   "pygments_lexer": "ipython3",
   "version": "3.9.12"
  }
 },
 "nbformat": 4,
 "nbformat_minor": 5
}
