{
 "cells": [
  {
   "cell_type": "markdown",
   "id": "5854a90d-e435-44ae-9e31-3bc520e011b1",
   "metadata": {
    "id": "5854a90d-e435-44ae-9e31-3bc520e011b1"
   },
   "source": [
    "Buatlah program yang meminta pengguna memasukkan usia seseorang, lalu tentukan apakah dia <br>\n",
    "anak-anak (0-12 tahun), remaja (13-17 tahun), dewasa (18-59 tahun), atau lansia (60 tahun ke atas)."
   ]
  },
  {
   "cell_type": "code",
   "execution_count": 15,
   "id": "75a2fdcd-1ef1-45e4-9d79-c6a7cb708a18",
   "metadata": {
    "id": "75a2fdcd-1ef1-45e4-9d79-c6a7cb708a18"
   },
   "outputs": [
    {
     "name": "stdin",
     "output_type": "stream",
     "text": [
      "Masukkan usia:  23\n"
     ]
    },
    {
     "name": "stdout",
     "output_type": "stream",
     "text": [
      "Kategori usia: Dewasa\n"
     ]
    }
   ],
   "source": [
    "def tentukan_kategori_usia(usia):\n",
    "    if usia >= 0 and usia <= 12:\n",
    "        return \"Anak-anak\"\n",
    "    elif usia >= 13 and usia <= 17:\n",
    "        return \"Remaja\"\n",
    "    elif usia >= 18 and usia <= 59:\n",
    "        return \"Dewasa\"\n",
    "    elif usia >= 60:\n",
    "        return \"Lansia\"\n",
    "    else:\n",
    "        return \"Usia tidak valid\"\n",
    "        \n",
    "usia_input = int(input(\"Masukkan usia: \"))\n",
    "\n",
    "kategori = tentukan_kategori_usia(usia_input)\n",
    "print(f\"Kategori usia: {kategori}\")"
   ]
  },
  {
   "cell_type": "markdown",
   "id": "68c95835-e4ad-4bd0-89ca-168200893cf7",
   "metadata": {
    "id": "68c95835-e4ad-4bd0-89ca-168200893cf7"
   },
   "source": [
    "Sebuah taman hiburan memiliki aturan harga tiket berdasarkan usia:\n",
    "<ol>\n",
    "<li>Anak-anak (0-12 tahun): Rp 10.000</li>\n",
    "<li>Remaja (13-17 tahun): Rp 15.000</li>\n",
    "<li>Dewasa (18-59 tahun): Rp 25.000</li>\n",
    "<li>Lansia (60 tahun ke atas): Gratis</li>\n",
    "</ol>\n",
    "Buat program untuk menentukan harga tiket berdasarkan usia yang dimasukkan pengguna dan total harga yang harus dibayar, jika terdapat 3 input seperti berikut ini"
   ]
  },
  {
   "cell_type": "code",
   "execution_count": 20,
   "id": "66ee699f-8355-48e0-939a-dcc73ba4425b",
   "metadata": {
    "id": "66ee699f-8355-48e0-939a-dcc73ba4425b"
   },
   "outputs": [
    {
     "name": "stdin",
     "output_type": "stream",
     "text": [
      "Isikan Umur Tiket 1:  33\n",
      "Isikan Umur Tiket 2:  21\n",
      "Isikan Umur Tiket 3:  11\n"
     ]
    },
    {
     "name": "stdout",
     "output_type": "stream",
     "text": [
      "Tiket 3 : 25000\n",
      "Tiket 3 : 25000\n",
      "Tiket 1 : 10000\n",
      "Jadi total adalah:60000\n"
     ]
    }
   ],
   "source": [
    "tiket1 = int(input(\"Isikan Umur Tiket 1: \"))\n",
    "tiket2 = int(input(\"Isikan Umur Tiket 2: \"))\n",
    "tiket3 = int(input(\"Isikan Umur Tiket 3: \"))\n",
    "totalBiaya = 0\n",
    "if tiket1 >= 1:\n",
    "    if tiket1 <=13:\n",
    "        print(\"Tiket 1 : 10000\")\n",
    "        totalBiaya = totalBiaya + 10000\n",
    "    elif tiket1<=17:\n",
    "        print(\"Tiket 2 : 15000\")\n",
    "        totalBiaya = totalBiaya + 15000\n",
    "    elif tiket1 <=59:\n",
    "        print(\"Tiket 3 : 25000\")\n",
    "        totalBiaya = totalBiaya + 25000\n",
    "    else :\n",
    "        print(\"Tiket 1  : Gratis\")\n",
    "        totalBiaya = totalBiaya + 0\n",
    "\n",
    "else:\n",
    "    print(\"Umur Tidak Valid\")\n",
    "    \n",
    "if tiket2 >= 1:\n",
    "    if tiket2 <=13:\n",
    "        print(\"Tiket 1 : 10000\")\n",
    "        totalBiaya = totalBiaya + 10000\n",
    "    elif tiket2 <=17:\n",
    "        print(\"Tiket 2 : 15000\")\n",
    "        totalBiaya = totalBiaya + 15000\n",
    "    elif tiket2 <=59:\n",
    "        print(\"Tiket 3 : 25000\")\n",
    "        totalBiaya = totalBiaya + 25000\n",
    "    else :\n",
    "        print(\"Tiket 1  : Gratis\")\n",
    "        totalBiaya = totalBiaya + 0\n",
    "\n",
    "else:\n",
    "    print(\"Umur Tidak Valid\")\n",
    "\n",
    "    \n",
    "if tiket3 >= 1:\n",
    "    if tiket3 <=13:\n",
    "        print(\"Tiket 1 : 10000\")\n",
    "        totalBiaya = totalBiaya + 10000\n",
    "    elif tiket3 <=17:\n",
    "        print(\"Tiket 2 : 15000\")\n",
    "        totalBiaya = totalBiaya + 15000\n",
    "    elif tiket3 <=59:\n",
    "        print(\"Tiket 3 : 25000\")\n",
    "        totalBiaya = totalBiaya + 25000\n",
    "    else :\n",
    "        print(\"Tiket 1  : Gratis\")\n",
    "        totalBiaya = totalBiaya + 0\n",
    "\n",
    "else:\n",
    "    print(\"Umur Tidak Valid\")\n",
    "print(f\"Jadi total adalah:{totalBiaya}\")"
   ]
  },
  {
   "cell_type": "markdown",
   "id": "82eac646-d930-42f5-a253-03f84c32f943",
   "metadata": {
    "id": "82eac646-d930-42f5-a253-03f84c32f943"
   },
   "source": [
    "Sebuah restoran memiliki diskon khusus:\n",
    "Anak-anak (0-12 tahun) diskon 50%\n",
    "Lansia (60 tahun ke atas) diskon 30%\n",
    "Selain itu, tidak ada diskon\n",
    "Buat program untuk menghitung harga yang harus dibayar setelah diskon diberikan."
   ]
  },
  {
   "cell_type": "code",
   "execution_count": 14,
   "id": "feb31fca-fce6-4e5f-a25f-8752e7a0033b",
   "metadata": {
    "id": "feb31fca-fce6-4e5f-a25f-8752e7a0033b"
   },
   "outputs": [
    {
     "name": "stdin",
     "output_type": "stream",
     "text": [
      "Masukkan harga asli (Rp):  2000\n",
      "Masukkan usia Anda:  12\n"
     ]
    },
    {
     "name": "stdout",
     "output_type": "stream",
     "text": [
      "Harga yang harus dibayar setelah diskon adalah Rp 1000.00.\n"
     ]
    }
   ],
   "source": [
    "def hitung_harga_setelah_diskon(harga_asli, usia):\n",
    "    if usia <= 12:  # Anak-anak\n",
    "        diskon = 0.50  # Diskon 50%\n",
    "    elif usia >= 60:  # Lansia\n",
    "        diskon = 0.30  # Diskon 30%\n",
    "    else:\n",
    "        diskon = 0.0  # Tidak ada diskon\n",
    "\n",
    "    harga_setelah_diskon = harga_asli * (1 - diskon)\n",
    "    return harga_setelah_diskon\n",
    "    \n",
    "harga_asli_input = float(input(\"Masukkan harga asli (Rp): \"))\n",
    "usia_input = int(input(\"Masukkan usia Anda: \"))\n",
    "\n",
    "harga_setelah_diskon = hitung_harga_setelah_diskon(harga_asli_input, usia_input)\n",
    "print(f\"Harga yang harus dibayar setelah diskon adalah Rp {harga_setelah_diskon:.2f}.\")"
   ]
  },
  {
   "cell_type": "markdown",
   "id": "aee8bab3-9bf1-4732-97e1-7abb32ce7184",
   "metadata": {
    "id": "aee8bab3-9bf1-4732-97e1-7abb32ce7184"
   },
   "source": [
    "Program beasiswa:\n",
    "<ol>\n",
    "<li>Jika nilai rapor ≥ 90 dan penghasilan orang tua < Rp 5.000.000 → Beasiswa Penuh</li>\n",
    "<li>Jika nilai rapor ≥ 85 dan penghasilan orang tua < Rp 8.000.000 → Beasiswa 50%</li>\n",
    "<li>Jika tidak memenuhi syarat di atas → Tidak mendapatkan beasiswa</li>\n",
    "</ol>"
   ]
  },
  {
   "cell_type": "code",
   "execution_count": 21,
   "id": "55a9ec4f-531b-4326-bca3-e0d19b4be47d",
   "metadata": {
    "id": "55a9ec4f-531b-4326-bca3-e0d19b4be47d"
   },
   "outputs": [
    {
     "name": "stdin",
     "output_type": "stream",
     "text": [
      "Masukan nilai rapor:  75\n",
      "Masukan penghasilan ortu:  500000\n"
     ]
    },
    {
     "name": "stdout",
     "output_type": "stream",
     "text": [
      "Tidak mendapatkan beasiswa\n"
     ]
    }
   ],
   "source": [
    "nilaiRapor = int(input(\"Masukan nilai rapor: \"))\n",
    "penghasilan = int(input(\"Masukan penghasilan ortu: \"))\n",
    "\n",
    "if nilaiRapor >= 90 and penghasilan < 5_000_000:\n",
    "    print(\"Mendapatkan beasiswa penuh\")\n",
    "elif nilaiRapor >= 85 and penghasilan < 8_000_000:\n",
    "    print(\"Mendapatkan beasiswa 50%\")\n",
    "else:\n",
    "    print(\"Tidak mendapatkan beasiswa\")"
   ]
  },
  {
   "cell_type": "markdown",
   "id": "57ea9062-e1af-4650-8eab-a47a01a9d04f",
   "metadata": {
    "id": "57ea9062-e1af-4650-8eab-a47a01a9d04f"
   },
   "source": [
    "Suatu aplikasi streaming memiliki batasan usia:\n",
    "<ol>\n",
    "<li>Film Semua Umur: Bisa ditonton oleh siapa saja</li>\n",
    "<li>Film Remaja: Hanya untuk usia ≥ 13 tahun</li>\n",
    "<li>Film Dewasa: Hanya untuk usia ≥ 18 tahun</li>\n",
    "</ol>\n",
    "Buat program yang meminta input usia dan kategori film, lalu tentukan apakah seseorang boleh menonton film tersebut atau tidak."
   ]
  },
  {
   "cell_type": "code",
   "execution_count": 22,
   "id": "2c00f464-3390-4c94-9ec2-4b63c55b871b",
   "metadata": {
    "id": "2c00f464-3390-4c94-9ec2-4b63c55b871b"
   },
   "outputs": [
    {
     "name": "stdin",
     "output_type": "stream",
     "text": [
      "Masukkan usia Anda:  19\n",
      "Masukkan kategori film (Semua Umur, Remaja, Dewasa):  dewasa\n"
     ]
    },
    {
     "name": "stdout",
     "output_type": "stream",
     "text": [
      "Anda tidak boleh menonton film ini.\n"
     ]
    }
   ],
   "source": [
    "def boleh_nonton(usia, kategori_film):\n",
    "    if kategori_film == \"Semua Umur\":\n",
    "        return True\n",
    "    elif kategori_film == \"Remaja\":\n",
    "        return usia >= 13\n",
    "    elif kategori_film == \"Dewasa\":\n",
    "        return usia >= 18\n",
    "    else:\n",
    "        return False\n",
    "\n",
    "usia_input = int(input(\"Masukkan usia Anda: \"))\n",
    "kategori_film_input = input(\"Masukkan kategori film (Semua Umur, Remaja, Dewasa): \")\n",
    "\n",
    "if boleh_nonton(usia_input, kategori_film_input):\n",
    "    print(\"Anda boleh menonton film ini.\")\n",
    "else:\n",
    "    print(\"Anda tidak boleh menonton film ini.\")"
   ]
  },
  {
   "cell_type": "markdown",
   "id": "7b87c04c-85f0-4dc1-a14a-f67d8b2c4e6a",
   "metadata": {
    "id": "7b87c04c-85f0-4dc1-a14a-f67d8b2c4e6a"
   },
   "source": [
    "Sebuah toko memberikan diskon berdasarkan jumlah pembelian:\n",
    "<ol>\n",
    "<li>Jika total belanja ≥ Rp 500.000 → Diskon 20%</li>\n",
    "<li>Jika total belanja ≥ Rp 250.000 → Diskon 10%</li>\n",
    "<li>Jika total belanja < Rp 250.000 → Tidak ada diskon</li>\n",
    "</ol>\n",
    "Hitung harga akhir setelah diskon."
   ]
  },
  {
   "cell_type": "code",
   "execution_count": 23,
   "id": "966923a0-c87b-4559-8fc1-3090d448ad4a",
   "metadata": {
    "id": "966923a0-c87b-4559-8fc1-3090d448ad4a"
   },
   "outputs": [
    {
     "name": "stdin",
     "output_type": "stream",
     "text": [
      "Masukkan total belanja (Rp):  900000\n"
     ]
    },
    {
     "name": "stdout",
     "output_type": "stream",
     "text": [
      "harga akhir setelah diskon rp 720000.00.\n"
     ]
    }
   ],
   "source": [
    "def hitung_harga_akhir(total_belanja):\n",
    "    if total_belanja >= 500000:\n",
    "        diskon = 0.20  \n",
    "    elif total_belanja >= 250000:\n",
    "        diskon = 0.10  \n",
    "    else:\n",
    "        diskon = 0.0  \n",
    "\n",
    "    harga_akhir = total_belanja * (1 - diskon)\n",
    "    return harga_akhir\n",
    "total_belanja_input = float(input(\"Masukkan total belanja (Rp): \"))\n",
    "harga_akhir = hitung_harga_akhir(total_belanja_input)\n",
    "print(f\"harga akhir setelah diskon rp {harga_akhir:.2f}.\")"
   ]
  },
  {
   "cell_type": "markdown",
   "id": "88e22629-48cc-4917-86e7-2bf4df863182",
   "metadata": {
    "id": "88e22629-48cc-4917-86e7-2bf4df863182"
   },
   "source": [
    "Program parkir:\n",
    "<ol>\n",
    "<li>Mobil: Rp 5.000 per jam</li>\n",
    "<li>Motor: Rp 2.000 per jam</li>\n",
    "<li>Jika parkir lebih dari 5 jam, ada biaya tambahan Rp 10.000</li>\n",
    "</ol>\n",
    "Hitung total biaya parkir berdasarkan jenis kendaraan dan durasi parkir."
   ]
  },
  {
   "cell_type": "code",
   "execution_count": 16,
   "id": "b8f7b918-70a1-4a88-945f-406c4aafbec7",
   "metadata": {
    "id": "b8f7b918-70a1-4a88-945f-406c4aafbec7"
   },
   "outputs": [
    {
     "name": "stdin",
     "output_type": "stream",
     "text": [
      "Masukan motor/mobil:  motor\n",
      "Jam Masuk:  3\n",
      "Jam Keluar:  7\n"
     ]
    },
    {
     "name": "stdout",
     "output_type": "stream",
     "text": [
      "Tarif motor: 2000\n",
      "Lama Parkir: 4 jam\n",
      "Total Tarif Parkir: 8000\n"
     ]
    }
   ],
   "source": [
    "jenisKendaraan = input(\"Masukan motor/mobil: \")\n",
    "jamMasuk = int(input(\"Jam Masuk: \"))\n",
    "jamKeluar = int(input(\"Jam Keluar: \"))\n",
    "\n",
    "tarifPerjam = 0\n",
    "if jenisKendaraan == \"motor\":\n",
    "    tarifPerjam = 2000\n",
    "elif jenisKendaraan == \"mobil\":\n",
    "    tarifPerjam = 5000\n",
    "else:\n",
    "    print(\"Tidak menerima selain mobil atau motor\")\n",
    "\n",
    "if jamMasuk >= jamKeluar:\n",
    "    print(\"Input Jam Masuk/Jam Keluar Salah!\")\n",
    "else:\n",
    "    totalTarif = (jamKeluar - jamMasuk)*tarifPerjam\n",
    "\n",
    "print(f\"Tarif {jenisKendaraan}: {tarifPerjam}\")\n",
    "print(f\"Lama Parkir: {jamKeluar-jamMasuk} jam\")\n",
    "print(f\"Total Tarif Parkir: {totalTarif}\")"
   ]
  },
  {
   "cell_type": "markdown",
   "id": "2db1d34c-3f80-4f8c-aaf2-910c38c05414",
   "metadata": {
    "id": "2db1d34c-3f80-4f8c-aaf2-910c38c05414"
   },
   "source": [
    "Aplikasi transportasi online memiliki tarif sebagai berikut:\n",
    "<ol>\n",
    "<li>Jika jarak ≤ 5 km → Rp 5.000/km</li>\n",
    "<li>Jika jarak 6-10 km → Rp 4.000/km</li>\n",
    "<li>Jika jarak > 10 km → Rp 3.000/km</li>\n",
    "</ol>\n",
    "Hitung tarif perjalanan berdasarkan jarak yang dimasukkan pengguna.\n"
   ]
  },
  {
   "cell_type": "code",
   "execution_count": 17,
   "id": "5a5b719e-76f6-4f45-a8e4-07853113ce9e",
   "metadata": {
    "id": "5a5b719e-76f6-4f45-a8e4-07853113ce9e"
   },
   "outputs": [
    {
     "name": "stdin",
     "output_type": "stream",
     "text": [
      "Masukkan jarak (km):  12\n"
     ]
    },
    {
     "name": "stdout",
     "output_type": "stream",
     "text": [
      "Tarif perjalanan untuk jarak 12.0 km adalah Rp 36000.0.\n"
     ]
    }
   ],
   "source": [
    "def hitung_tarif(jarak):\n",
    "    if jarak <= 5:\n",
    "        tarif = jarak * 5000\n",
    "    elif 6 <= jarak <= 10:\n",
    "        tarif = jarak * 4000\n",
    "    else:\n",
    "        tarif = jarak * 3000\n",
    "    return tarif\n",
    "jarak_input = float(input(\"Masukkan jarak (km): \"))\n",
    "tarif_perjalanan = hitung_tarif(jarak_input)\n",
    "print(f\"Tarif perjalanan untuk jarak {jarak_input} km adalah Rp {tarif_perjalanan}.\")"
   ]
  },
  {
   "cell_type": "markdown",
   "id": "d1cf7b61-e309-40ec-b1fd-4bc56550a10d",
   "metadata": {
    "id": "d1cf7b61-e309-40ec-b1fd-4bc56550a10d"
   },
   "source": [
    "Buatlah sebuah sistem penerimaan calon programmer yang akan menerima dua nilai ( nilai coding dan nilai interview). Untuk penilaian test coding skala penilaian yang diberikan dimulai dari 0 hingga 100 dengan sistem penilaian:\n",
    "<ol>\n",
    "<li>ketika seseorang mendapatkan nilai lebih dari 80 maka peserta tersebut akan mendapatkan hasil tes LOLOS</li>\n",
    "<li>ketika sesorang mendapatkan nilai diantara 60 hingga 80 maka peserta tersebut mendapatkan hasil tes DIPERTIMBANGKAN</li>\n",
    "<li>ketika seseorang mendapatkan nilai dibawah 60 maka peserta tersebut mendapatkan hasil tes GAGAL.</li>\n",
    "</ol>\n",
    "\n",
    "Sedangkan untuk penilaian interview adalah\n",
    "<ol>\n",
    "<li>ketika nilai yang diberikan kepada seseorang tersebut adalah \"A\" atau \"B\" maka peserta tersebut dianggap LOLOS interview</li>\n",
    "\n",
    "<li>selain kedua nilai tersebut maka peserta dianggap GAGAL tes interview.</li>\n",
    "</ol>\n",
    "\n",
    "Ketika calon programmer mendapatkan nilai coding LOLOS atau DIPERTIMBANGKAN dan juga LOLOS test interview maka tampilkanlah pesan \"Selamat Kamu Berhasil Menjadi Calon Programmer\". Jika tidak maka tampilkanlah pesan \"Maaf Kamu Belum Berhasil Menjadi Calon Programmer\""
   ]
  },
  {
   "cell_type": "code",
   "execution_count": 24,
   "id": "7aeb0f89-e957-4c0d-a29c-139fc269e1c0",
   "metadata": {
    "id": "7aeb0f89-e957-4c0d-a29c-139fc269e1c0"
   },
   "outputs": [
    {
     "name": "stdin",
     "output_type": "stream",
     "text": [
      "Masukkan nilai coding (0-100):  50\n",
      "Masukkan nilai interview (A/B/C/dll):  C\n"
     ]
    },
    {
     "name": "stdout",
     "output_type": "stream",
     "text": [
      "Maaf Kamu Belum Berhasil Menjadi Calon Programmer\n"
     ]
    }
   ],
   "source": [
    "nilaiCoding = int(input(\"Masukkan nilai coding (0-100): \"))\n",
    "nilaiInterview = input(\"Masukkan nilai interview (A/B/C/dll): \").upper()\n",
    "\n",
    "if nilaiCoding > 80:\n",
    "    hasilCoding = \"LOLOS\"\n",
    "elif 60 <= nilaiCoding <= 80:\n",
    "    hasilCoding = \"DIPERTIMBANGKAN\"\n",
    "else:\n",
    "    hasilCoding = \"GAGAL\"\n",
    "\n",
    "if nilaiInterview == \"A\" or nilaiInterview == \"B\":\n",
    "    hasilInterview = \"LOLOS\"\n",
    "else:\n",
    "    hasilInterview = \"GAGAL\"\n",
    "\n",
    "if (hasilCoding == \"LOLOS\" or hasilCoding == \"DIPERTIMBANGKAN\") and hasilInterview == \"LOLOS\":\n",
    "    print(\"Selamat Kamu Berhasil Menjadi Calon Programmer\")\n",
    "else:\n",
    "    print(\"Maaf Kamu Belum Berhasil Menjadi Calon Programmer\")"
   ]
  },
  {
   "cell_type": "markdown",
   "id": "364647af-075b-4bc0-8c83-4c816415ff74",
   "metadata": {
    "id": "364647af-075b-4bc0-8c83-4c816415ff74"
   },
   "source": [
    "Sebuah klub sepak bola “PERSEGI FC” mempunyai aturan dalam memberikan nomor punggung bagi para pemainnya. Para pemain diperbolehkan mempunyai posisi lebih dari 1. Berikut adalah beberapa\n",
    "aturannya:\n",
    "<ol>\n",
    "<li>Untuk nomor punggung genap, digunakan untuk posisi “target attacker”</li>\n",
    "<li>Untuk nomor punggung genap antara 50 – 100, digunakan untuk pemain yang “berhak dipilih menjadi capten team”</li>\n",
    "<li>Untuk nomor punggung ganjil, digunakan untuk posisi “defender”</li>\n",
    "<li>Untuk nomor punggung ganjil lebih dari 90, digunakan untuk posisi “Playmaker”</li>\n",
    "<li>Untuk nomor punggung ganjil kelipatan dari 3 dan 5, digunakan untuk posisi “keeper”</li>\n",
    "</ol>\n",
    "Buatlah program untuk melakukan pengecekan sebuah nomor punggung dapat berfungsi sebagai posisi apa saja."
   ]
  },
  {
   "cell_type": "code",
   "execution_count": 19,
   "id": "2d1d5589-126b-44e3-9d9e-1bed865ff65c",
   "metadata": {
    "id": "2d1d5589-126b-44e3-9d9e-1bed865ff65c"
   },
   "outputs": [
    {
     "name": "stdin",
     "output_type": "stream",
     "text": [
      "Nomor Punggung:  99\n"
     ]
    },
    {
     "name": "stdout",
     "output_type": "stream",
     "text": [
      "Kamu mempunyai pilihan posisi: Defender, Playmaker\n"
     ]
    }
   ],
   "source": [
    "nomorPunggung = int(input(\"Nomor Punggung: \"))\n",
    "posisi = \"\"\n",
    "if nomorPunggung % 2 == 0:\n",
    "    posisi += \"Target Attacker, \"\n",
    "    if nomorPunggung >= 50 and nomorPunggung <= 100:\n",
    "        posisi += \"Berhak dipilih menjadi Captain, \"\n",
    "else:\n",
    "    posisi += \"Defender, \"\n",
    "    if nomorPunggung > 90:\n",
    "        posisi += \"Playmaker\"\n",
    "    if nomorPunggung % 3 == 0 and nomorPunggung % 5 == 0:\n",
    "        posisi += \"Keeper\"\n",
    "print(f\"Kamu mempunyai pilihan posisi: {posisi}\")\n"
   ]
  }
 ],
 "metadata": {
  "colab": {
   "provenance": []
  },
  "kernelspec": {
   "display_name": "anaconda-2024.02-py310",
   "language": "python",
   "name": "conda-env-anaconda-2024.02-py310-py"
  },
  "language_info": {
   "codemirror_mode": {
    "name": "ipython",
    "version": 3
   },
   "file_extension": ".py",
   "mimetype": "text/x-python",
   "name": "python",
   "nbconvert_exporter": "python",
   "pygments_lexer": "ipython3",
   "version": "3.10.14"
  }
 },
 "nbformat": 4,
 "nbformat_minor": 5
}
