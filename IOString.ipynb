{
 "cells": [
  {
   "cell_type": "code",
   "execution_count": 5,
   "id": "4a7db6a5",
   "metadata": {},
   "outputs": [
    {
     "name": "stdout",
     "output_type": "stream",
     "text": [
      "Isikan nama andabagas\n",
      "Selamat datang bagas\n",
      "123Andi@Rudi@Budi\n"
     ]
    }
   ],
   "source": [
    "name = input(\"Isikan nama anda\")\n",
    "print (\"Selamat datang\", name)#menggabungan variabel dengan string\n",
    "\n",
    "print(\"1\",end='')#mencetak disamping karakter\n",
    "print(\"2\",end='')\n",
    "print(\"3\",end='')\n",
    "\n",
    "#seperator\n",
    "print(\"Andi\",\"Rudi\",\"Budi\",sep=\"@\")"
   ]
  },
  {
   "cell_type": "markdown",
   "id": "fee4af00",
   "metadata": {},
   "source": [
    "<h1>String Format<h1>\n",
    "   "
   ]
  },
  {
   "cell_type": "code",
   "execution_count": 1,
   "id": "caaa24bf",
   "metadata": {},
   "outputs": [
    {
     "name": "stdout",
     "output_type": "stream",
     "text": [
      "Isikan bilangan 1 :3\n",
      "Isikan bilangan 2 :4\n",
      "Hasil penjumlahan 3 + 4 = 7\n",
      "Hasil penjumlahan 3 + 4 = 7\n"
     ]
    }
   ],
   "source": [
    "val1 = int(input(\"Isikan bilangan 1 :\"))\n",
    "val2 = int(input(\"Isikan bilangan 2 :\"))\n",
    "\n",
    "#hasil penjumlahan 3 + 4 = 7\n",
    "print(\"Hasil penjumlahan\",val1,\"+\",val2,\"=\",val1+val2)\n",
    "#Stirng format mrnggunakan tanda {}\n",
    "print(\"Hasil penjumlahan {} + {} = {}\".format(val1,val2,val1+val2)) "
   ]
  },
  {
   "cell_type": "markdown",
   "id": "962d9398",
   "metadata": {},
   "source": [
    "<h1>String Format Indeks<h1>\n",
    "    "
   ]
  },
  {
   "cell_type": "code",
   "execution_count": 2,
   "id": "8d32ca96",
   "metadata": {},
   "outputs": [
    {
     "name": "stdout",
     "output_type": "stream",
     "text": [
      "Isikan nama depan:bagas\n",
      "Isikan nama tengah:aja\n",
      "Isikan nama belakang:oke\n",
      "Nama anda : bagas aja oke\n",
      "Nama anda : aja bagas oke\n",
      "Nama anda : bagas aja oke\n"
     ]
    }
   ],
   "source": [
    "fName = input(\"Isikan nama depan:\")\n",
    "mName = input(\"Isikan nama tengah:\")\n",
    "lName = input(\"Isikan nama belakang:\")\n",
    "\n",
    "print(\"Nama anda : {} {} {}\".format(fName,mName,lName))\n",
    "print(\"Nama anda : {1} {0} {2}\".format(fName,mName,lName))\n",
    "#menggunakan key\n",
    "print(\"Nama anda : {depan} {tengah} {belakang}\".format(belakang=lName,depan=fName,tengah=mName))\n"
   ]
  },
  {
   "cell_type": "markdown",
   "id": "d625e592",
   "metadata": {},
   "source": [
    "<h1>slicing<h1>\n",
    "    <h2>mengambil string/karakter dari string berdasarkan indeks<h2>"
   ]
  },
  {
   "cell_type": "code",
   "execution_count": 3,
   "id": "6875bb3e",
   "metadata": {},
   "outputs": [
    {
     "name": "stdout",
     "output_type": "stream",
     "text": [
      "Isikan Nama Kampus anda: unpad\n",
      "u\n",
      "unpad\n",
      "d\n",
      "npad\n"
     ]
    }
   ],
   "source": [
    "university = input(\"Isikan Nama Kampus anda: \")\n",
    "#mencetak karakter pertama\n",
    "print(university[0])\n",
    "#mencetak karakter pertama sampai kelima\n",
    "print(university[0:5])\n",
    "#mencetak karakter paling akhir\n",
    "print(university[-1])\n",
    "#mencetak karakter kedua sampai selesai\n",
    "print(university[1:])"
   ]
  },
  {
   "cell_type": "markdown",
   "id": "65fc3438",
   "metadata": {},
   "source": [
    "<h1>Fungsi String<h1>"
   ]
  },
  {
   "cell_type": "code",
   "execution_count": 28,
   "id": "df17a5df",
   "metadata": {},
   "outputs": [
    {
     "name": "stdout",
     "output_type": "stream",
     "text": [
      "Isikan nama lengkap:a b c\n",
      "Nama depan a\n",
      "Nama tengah b\n",
      "Nama belakang c\n",
      "Nama anda adalah a b c\n",
      "1\n"
     ]
    }
   ],
   "source": [
    "fullName = input(\"Isikan nama lengkap:\")\n",
    "#split - untuk memisahkan string berdasarkan karakter tertentu\n",
    "name = fullName.split(' ')\n",
    "print(\"Nama depan\", name[0])\n",
    "print(\"Nama tengah\", name[1])\n",
    "print(\"Nama belakang\", name[2])\n",
    "\n",
    "#print fstring\n",
    "print(f\"Nama anda adalah {fullName}\")#sering digunakan\n",
    "\n",
    "#find untuk mencari karakter dalam string\n",
    "#jika ditemukan akan mengembalikan posisi indeks\n",
    "#jika tidak ditemukan mengembalikan nilai -1\n",
    "\n",
    "platMobil = \"N7865BB\"\n",
    "print(platMobil.find(\"7\"))\n",
    "\n"
   ]
  },
  {
   "cell_type": "code",
   "execution_count": 31,
   "id": "ddb87612",
   "metadata": {},
   "outputs": [
    {
     "name": "stdout",
     "output_type": "stream",
     "text": [
      "Isikan email:bagas.@gmail.com\n",
      "posisi '@' : 6\n",
      "posisi '.' : 5\n",
      "tidak valid\n"
     ]
    }
   ],
   "source": [
    "email = input(\"Isikan email:\")\n",
    "cek1 = email.find(\"@\")\n",
    "cek2 = email.find(\".\")\n",
    "print(\"posisi '@' :\", cek1)\n",
    "print(\"posisi '.' :\", cek2)\n",
    "cekValid = \"email valid\" if cek1 -1 and cek2 -1 and cek1 < cek2 else \"tidak valid\"\n",
    "print(cekValid)"
   ]
  },
  {
   "cell_type": "markdown",
   "id": "4621b31c",
   "metadata": {},
   "source": [
    "<h1>random<h1>"
   ]
  },
  {
   "cell_type": "code",
   "execution_count": 8,
   "id": "10d9f64e",
   "metadata": {},
   "outputs": [
    {
     "name": "stdout",
     "output_type": "stream",
     "text": [
      "Hasil Acak adalah 0.08496582557062227\n",
      "Nilai Dari Nilai acak bulat adalah 39\n",
      "hasil dari acak bulan adalah april\n",
      "hasil dari acak hari adalah ['sat', 6]\n",
      "berapakah 82 * 1:\n",
      "Isikan hasilnya23\n",
      "Salah\n",
      "Anda Salah !!\n"
     ]
    }
   ],
   "source": [
    "from random import random\n",
    "nilai = random()\n",
    "print(f\"Hasil Acak adalah {nilai}\")\n",
    "\n",
    "from random import randint\n",
    "nilaiInt = randint(0,100)\n",
    "print(f\"Nilai Dari Nilai acak bulat adalah {nilaiInt}\")\n",
    "\n",
    "from random import choice \n",
    "sMonth = [\"jan\",\"feb\",\"maret\",\"april\",\"mei\",\"jun\",\"jul\",\"aug\",\"sep\",\"oct\",\"nov\",\"des\"]\n",
    "sDay = ([\"Mon\",1],[\"Tue\",2],[\"wed\",3],[\"thu\",4],[\"fri,5\"],[\"sat\",6],[\"sun\",7])\n",
    "\n",
    "sMonth = choice(sMonth)\n",
    "sDay = choice(sDay)\n",
    "select = choice(sMonth)\n",
    "print(f\"hasil dari acak bulan adalah {sMonth}\")\n",
    "print(f\"hasil dari acak hari adalah {sDay}\")\n",
    "\n",
    "nilai1 = randint(0,100)\n",
    "nilai2 = randint(0,100)\n",
    "operator = [\"+\",\"-\",\"*\",\"/\"]\n",
    "sOperator = choice(operator)\n",
    "print(f\"berapakah {nilai1} {sOperator} {nilai2}:\")\n",
    "jawab = int(input(\"Isikan hasilnya\"))\n",
    "cekJawab = \"Benar\" if jawab == nilai1 + nilai2 else \"Salah\"\n",
    "print(cekJawab)\n",
    "\n",
    "#IF ELSE\n",
    "if sOperator == \"+\":\n",
    "    cekJawab = \"Anda Benar !!!\" if jawab == nilai1 + nilai2 else \"Anda Salah !!\"\n",
    "elif sOperator == \"-\":\n",
    "     cekJawab = \"Anda Benar !!!\" if jawab == nilai1 - nilai2 else \"Anda Salah !!\"\n",
    "elif sOperator == \"/\":\n",
    "     cekJawab = \"Anda Benar !!!\" if jawab == nilai1 / nilai2 else \"Anda Salah !!\"\n",
    "elif sOperator == \"*\":\n",
    "     cekJawab = \"Anda Benar !!!\" if jawab == nilai1 * nilai2 else \"Anda Salah !!\"\n",
    "print(cekJawab)"
   ]
  },
  {
   "cell_type": "code",
   "execution_count": 12,
   "id": "9c940d10",
   "metadata": {},
   "outputs": [
    {
     "name": "stdout",
     "output_type": "stream",
     "text": [
      "ENG->IND(1) , IND->ENG(2)1\n",
      "Apa arti dari drink?\n",
      "Isikan jawaban:minum\n",
      "anda benar!!\n"
     ]
    }
   ],
   "source": [
    "from random import choice\n",
    "kamus = [[\"makan\",\"eat\"],[\"minum\",\"drink\"],[\"membaca\",\"reading\"]]\n",
    "sKamus = choice(kamus)\n",
    "pilihan = int(input(\"ENG->IND(1) , IND->ENG(2)\"))\n",
    "if pilihan ==1:\n",
    "    print(f\"Apa arti dari {sKamus[1]}?\")\n",
    "    jawab = input (\"Isikan jawaban:\")\n",
    "    cekTranslate  = \"anda benar!!\" if jawab.lower() == sKamus[0] else \"anda salah\"\n",
    "elif pilihan ==2:\n",
    "    print(f\"Apa arti dari {sKamus[0]}?\")\n",
    "    jawab = input (\"Isikan jawaban:\")\n",
    "    cekTranslate  = \"anda benar!!\" if jawab.lower() == sKamus1[0] else \"anda salah\"\n",
    "print(cekTranslate)\n"
   ]
  }
 ],
 "metadata": {
  "kernelspec": {
   "display_name": "Python 3 (ipykernel)",
   "language": "python",
   "name": "python3"
  },
  "language_info": {
   "codemirror_mode": {
    "name": "ipython",
    "version": 3
   },
   "file_extension": ".py",
   "mimetype": "text/x-python",
   "name": "python",
   "nbconvert_exporter": "python",
   "pygments_lexer": "ipython3",
   "version": "3.9.12"
  }
 },
 "nbformat": 4,
 "nbformat_minor": 5
}
