{
 "cells": [
  {
   "cell_type": "markdown",
   "id": "08eb70ad",
   "metadata": {},
   "source": [
    "<b>Project Data Customer</b>\n",
    "buatlah contoh data customer sebanyak 1000 yang akan digunakan untuk prediksi:<br>\n",
    "<ol>\n",
    "    <li>Usia : 18-61</li>\n",
    "    <li>Gender : L/P -> L(1),P(0)</li>\n",
    "    <li>Transaksi per bulan : 0-50</li>\n",
    "    <li>Kategori pembayaran : Buruk, Sedang, Bagus</li>\n",
    "</ol>    "
   ]
  },
  {
   "cell_type": "code",
   "execution_count": 18,
   "id": "4bda2aa9",
   "metadata": {},
   "outputs": [
    {
     "name": "stdout",
     "output_type": "stream",
     "text": [
      "     Usia  Gender  Transaksi /Bulan Kategori Bayar\n",
      "0      53       1                16         Sedang\n",
      "1      52       0                15         Sedang\n",
      "2      52       1                 4         Sedang\n",
      "3      37       0                45         Sedang\n",
      "4      55       1                10         Sedang\n",
      "..    ...     ...               ...            ...\n",
      "995    34       1                24         Sedang\n",
      "996    39       1                43         Sedang\n",
      "997    21       1                11         Sedang\n",
      "998    35       1                29         Sedang\n",
      "999    26       1                40         Sedang\n",
      "\n",
      "[1000 rows x 4 columns]\n",
      "<class 'pandas.core.frame.DataFrame'>\n",
      "RangeIndex: 1000 entries, 0 to 999\n",
      "Data columns (total 4 columns):\n",
      " #   Column            Non-Null Count  Dtype \n",
      "---  ------            --------------  ----- \n",
      " 0   Usia              1000 non-null   int32 \n",
      " 1   Gender            1000 non-null   int32 \n",
      " 2   Transaksi /Bulan  1000 non-null   int32 \n",
      " 3   Kategori Bayar    1000 non-null   object\n",
      "dtypes: int32(3), object(1)\n",
      "memory usage: 19.7+ KB\n",
      "None\n",
      "   Usia  Gender  Transaksi /Bulan Kategori Bayar\n",
      "0    53       1                16         Sedang\n",
      "1    52       0                15         Sedang\n",
      "2    52       1                 4         Sedang\n",
      "3    37       0                45         Sedang\n",
      "4    55       1                10         Sedang\n",
      "usia customer yang termuda:18\n",
      "497.0\n",
      "497\n"
     ]
    }
   ],
   "source": [
    "import numpy as np\n",
    "import pandas as pd\n",
    "\n",
    "n_data = 1000\n",
    "\n",
    "usia = np.random.randint(18,61,size=n_data)\n",
    "gender = np.random.randint(0,2,size=n_data)\n",
    "transaksi = np.random.randint(0,51,size=n_data)\n",
    "kategori = np.random.choice(['Buruk','Sedang','Bagus'])\n",
    "\n",
    "df = pd.DataFrame({\n",
    "    'Usia' : usia,\n",
    "    'Gender' : gender,\n",
    "    'Transaksi /Bulan' : transaksi,\n",
    "    'Kategori Bayar' : kategori\n",
    "})\n",
    "\n",
    "print(df)\n",
    "print(df.info())\n",
    "print(df.head()) #mengetahui isi 5 baris pertama dari data\n",
    "print(f\"usia customer yang termuda:{df['Usia'].min()}\")\n",
    "jmlL = df[df['Gender']==1]\n",
    "print(jmlL.size/4)\n",
    "print(jmlL['Gender'].size)\n",
    "df.to_csv('dataCustomer.csv')"
   ]
  }
 ],
 "metadata": {
  "kernelspec": {
   "display_name": "Python 3 (ipykernel)",
   "language": "python",
   "name": "python3"
  },
  "language_info": {
   "codemirror_mode": {
    "name": "ipython",
    "version": 3
   },
   "file_extension": ".py",
   "mimetype": "text/x-python",
   "name": "python",
   "nbconvert_exporter": "python",
   "pygments_lexer": "ipython3",
   "version": "3.9.12"
  }
 },
 "nbformat": 4,
 "nbformat_minor": 5
}
