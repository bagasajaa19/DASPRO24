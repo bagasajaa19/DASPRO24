{
 "cells": [
  {
   "cell_type": "code",
   "execution_count": 3,
   "id": "806cf1f2",
   "metadata": {},
   "outputs": [],
   "source": [
    "import numpy as np "
   ]
  },
  {
   "cell_type": "code",
   "execution_count": 24,
   "id": "e20f4f71",
   "metadata": {},
   "outputs": [
    {
     "name": "stdout",
     "output_type": "stream",
     "text": [
      "Array mat1D : [1 2 3 4 5 6 7 8 9]\n",
      "Array mat1D + 10 : [11 12 13 14 15 16 17 18 19]\n",
      "Array mat1D indeks ke 2 : 3\n"
     ]
    }
   ],
   "source": [
    "mat1D = np.array([1,2,3,4,5,6,7,8,9])\n",
    "print(f\"Array mat1D : {mat1D}\")\n",
    "print(f\"Array mat1D + 10 : {mat1D + 10}\")\n",
    "print(f\"Array mat1D indeks ke 2 : {mat1D[2]}\")"
   ]
  },
  {
   "cell_type": "code",
   "execution_count": 25,
   "id": "704a8cbd",
   "metadata": {},
   "outputs": [
    {
     "name": "stdout",
     "output_type": "stream",
     "text": [
      "Array mat2D : [[1 2 3]\n",
      " [4 5 6]\n",
      " [7 8 9]]\n",
      "Array mat2D * 10 : [[10 20 30]\n",
      " [40 50 60]\n",
      " [70 80 90]]\n",
      "Array mat2D indeks ke 2 : [7 8 9]\n",
      "Array mat2D indeks ke 2 : 50\n"
     ]
    }
   ],
   "source": [
    "mat2D = np.array([[1,2,3],[4,5,6],[7,8,9]])\n",
    "print(f\"Array mat2D : {mat2D}\")\n",
    "print(f\"Array mat2D * 10 : {mat2D * 10}\")\n",
    "print(f\"Array mat2D indeks ke 2 : {mat2D[2]}\")\n",
    "print(f\"Array mat2D indeks ke 2 : {mat2D[1][1] * 10}\")"
   ]
  },
  {
   "cell_type": "code",
   "execution_count": 19,
   "id": "9e094246",
   "metadata": {},
   "outputs": [
    {
     "name": "stdout",
     "output_type": "stream",
     "text": [
      "(9,)\n",
      "(3, 3)\n"
     ]
    }
   ],
   "source": [
    "print(mat1D.shape) #mengetahui bentuk dari matriks\n",
    "print(mat2D.shape)"
   ]
  },
  {
   "cell_type": "code",
   "execution_count": 20,
   "id": "62c1a59b",
   "metadata": {},
   "outputs": [
    {
     "name": "stdout",
     "output_type": "stream",
     "text": [
      "9\n",
      "9\n"
     ]
    }
   ],
   "source": [
    "print (mat1D.size) #mengetahui ukuran dari matriks\n",
    "print (mat1D.size)"
   ]
  },
  {
   "cell_type": "code",
   "execution_count": 14,
   "id": "3496c432",
   "metadata": {},
   "outputs": [
    {
     "name": "stdout",
     "output_type": "stream",
     "text": [
      "Matriks mZero :\n",
      " [[0. 0. 0. 0. 0.]\n",
      " [0. 0. 0. 0. 0.]\n",
      " [0. 0. 0. 0. 0.]]\n",
      "Matriks mOne :\n",
      " [[1. 1. 1. 1.]\n",
      " [1. 1. 1. 1.]\n",
      " [1. 1. 1. 1.]\n",
      " [1. 1. 1. 1.]]\n",
      "Matriks mIdentity :\n",
      " [[1. 0. 0. 0. 0.]\n",
      " [0. 1. 0. 0. 0.]\n",
      " [0. 0. 1. 0. 0.]\n",
      " [0. 0. 0. 1. 0.]\n",
      " [0. 0. 0. 0. 1.]]\n",
      "Matriks mFull :\n",
      " [[19 19 19]\n",
      " [19 19 19]\n",
      " [19 19 19]]\n",
      "Matriks mF1Random :\n",
      " [[0.26978173 0.51599871 0.29516037 0.96451435 0.56522284]\n",
      " [0.1986599  0.91618216 0.48083026 0.59314865 0.89640942]\n",
      " [0.00483175 0.91391574 0.56369802 0.26380935 0.04523979]\n",
      " [0.31844503 0.18320811 0.14084071 0.12230679 0.99265816]\n",
      " [0.6591487  0.4278103  0.83315738 0.32603908 0.44934051]]\n",
      "Matriks mF2Random :\n",
      " [[0.37063605 0.97947005 0.2233811  0.89531993 0.82069197]\n",
      " [0.99682683 0.7609097  0.83611229 0.63152321 0.1379008 ]\n",
      " [0.09585671 0.16265338 0.99553214 0.28891933 0.45103113]\n",
      " [0.99929419 0.52101694 0.20538942 0.38911289 0.59110908]\n",
      " [0.36771485 0.42729262 0.62581702 0.71326153 0.75558101]]\n",
      "Matriks mI1Random :\n",
      " [35 85 61 48 30 93 15 64 66 70]\n",
      "Matriks mI2Random :\n",
      " [[50 46  4 44]\n",
      " [72  1 51 64]\n",
      " [42 30  5 75]\n",
      " [ 9 13 67 31]]\n"
     ]
    }
   ],
   "source": [
    "#spesial matriks\n",
    "mZero = np.zeros((3,5)) #Matriks dengan nilai o\n",
    "mOne = np.ones((4,4)) #Matriks dengan nilai 1\n",
    "mIdentity = np.eye((5)) #Matriks diagonal 1 lainnya 0\n",
    "mFull = np.full((3,3),19) #Matriks dengan nilai yang sama\n",
    "mF1Random = np.random.rand(5,5) #matriks deangan nilai acak float 5 kolom\n",
    "mF2Random = np.random.rand(5,5) #matriks deangan nilai float 5*f\n",
    "mI1Random = np.random.randint(10,100,size=10)\n",
    "mI2Random = np.random.randint(1,100,size=(4,4))\n",
    "print(f\"Matriks mZero :\\n {mZero}\")\n",
    "print(f\"Matriks mOne :\\n {mOne}\")\n",
    "print(f\"Matriks mIdentity :\\n {mIdentity}\")\n",
    "print(f\"Matriks mFull :\\n {mFull}\")\n",
    "print(f\"Matriks mF1Random :\\n {mF1Random}\")\n",
    "print(f\"Matriks mF2Random :\\n {mF2Random}\")\n",
    "print(f\"Matriks mI1Random :\\n {mI1Random}\")\n",
    "print(f\"Matriks mI2Random :\\n {mI2Random}\")"
   ]
  },
  {
   "cell_type": "code",
   "execution_count": 17,
   "id": "33b0f16e",
   "metadata": {},
   "outputs": [
    {
     "name": "stdout",
     "output_type": "stream",
     "text": [
      "Hasil perkalian dot product : 32\n",
      "Hasil penjumlahan matriks:\n",
      "[5 7 9]\n",
      "Hasil dot product dengan 3:\n",
      "[3 6 9]\n"
     ]
    }
   ],
   "source": [
    "#Aritmatik array\n",
    "x = np.array([1,2,3])\n",
    "y = np.array([4,5,6])\n",
    "r1 = np.dot(x,y)\n",
    "r2 = np.add(x,y)\n",
    "r3 = np.dot(x,3)\n",
    "print(f\"Hasil perkalian dot product : {r1}\")\n",
    "print(f\"Hasil penjumlahan matriks:\\n{r2}\")\n",
    "print(f\"Hasil dot product dengan 3:\\n{r3}\")"
   ]
  },
  {
   "cell_type": "code",
   "execution_count": 22,
   "id": "6ddf4669",
   "metadata": {},
   "outputs": [
    {
     "name": "stdout",
     "output_type": "stream",
     "text": [
      "Nilai Pemrograman:\n",
      "[100  90  80  80  50  50  50  40]\n",
      "Nilai Terkecil:\n",
      "40\n",
      "Nilai Terbesar:\n",
      "100\n",
      "Nilai Rata-Rata:\n",
      "67.5\n",
      "Total Nilai:\n",
      "540\n",
      "Nilai Tengah:\n",
      "65.0\n",
      "Nilai Deviasi:\n",
      "21.065374432940896\n",
      "[100  90  80  80]\n",
      "jumlah mahasiswa yang lulus:4\n"
     ]
    }
   ],
   "source": [
    "#Fungsi statistik dasar\n",
    "nilaiPemrograman = np.array([100,90,80,80,50,50,50,40])\n",
    "nilaiMin = np.min(nilaiPemrograman)\n",
    "nilaiMax = np.max(nilaiPemrograman)\n",
    "nilaiMean = np.mean(nilaiPemrograman)\n",
    "nilaiSum = np.sum(nilaiPemrograman)\n",
    "nilaiMedian = np.median(nilaiPemrograman)\n",
    "nilaiStd = np.std(nilaiPemrograman)\n",
    "\n",
    "print(f\"Nilai Pemrograman:\\n{nilaiPemrograman}\")\n",
    "print(f\"Nilai Terkecil:\\n{nilaiMin}\")\n",
    "print(f\"Nilai Terbesar:\\n{nilaiMax}\")\n",
    "print(f\"Nilai Rata-Rata:\\n{nilaiMean}\")\n",
    "print(f\"Total Nilai:\\n{nilaiSum}\")\n",
    "print(f\"Nilai Tengah:\\n{nilaiMedian}\")\n",
    "print(f\"Nilai Deviasi:\\n{nilaiStd}\")\n",
    "\n",
    "#Filtering\n",
    "#Mencari jumlah mahasiswa yang lulus ->nilia >50\n",
    "dataLulus = nilaiPemrograman[nilaiPemrograman > 50]\n",
    "print(dataLulus)\n",
    "print(f\"jumlah mahasiswa yang lulus:{dataLulus.size}\")"
   ]
  },
  {
   "cell_type": "code",
   "execution_count": null,
   "id": "cdbaed20",
   "metadata": {},
   "outputs": [],
   "source": []
  }
 ],
 "metadata": {
  "kernelspec": {
   "display_name": "Python 3 (ipykernel)",
   "language": "python",
   "name": "python3"
  },
  "language_info": {
   "codemirror_mode": {
    "name": "ipython",
    "version": 3
   },
   "file_extension": ".py",
   "mimetype": "text/x-python",
   "name": "python",
   "nbconvert_exporter": "python",
   "pygments_lexer": "ipython3",
   "version": "3.9.12"
  }
 },
 "nbformat": 4,
 "nbformat_minor": 5
}
