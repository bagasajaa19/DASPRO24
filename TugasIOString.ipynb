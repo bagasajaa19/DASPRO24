{
 "cells": [
  {
   "cell_type": "markdown",
   "id": "deb98769-4fb6-4482-a339-98c8a5c69b6d",
   "metadata": {},
   "source": [
    "<h1>Buatlah biodata sederhana dengan menggunakan fungsi input(), dan output variabel dengan fungsi format().\n",
    "</h1>"
   ]
  },
  {
   "cell_type": "code",
   "execution_count": 1,
   "id": "f7d90642-3735-4eb0-b1b8-e38a6dc1207d",
   "metadata": {},
   "outputs": [
    {
     "name": "stdin",
     "output_type": "stream",
     "text": [
      "Isikan Nama Lengkap : asep\n",
      "Isikan Tempat Tanggal Lahir : jampang surade 17 agustus 45\n",
      "Isikan Jenis Kelamin : boti\n",
      "Isikan Alamat : jl bogor\n",
      "Isikan No Telepon : 08963756237\n",
      "Isikan Email : anajay@gmail.com\n",
      "Isikan Status : ff\n"
     ]
    },
    {
     "name": "stdout",
     "output_type": "stream",
     "text": [
      "\n",
      " --- Biodata Diri ---\n",
      "Nama Lengkap : asep\n",
      "Tempat Tanggal Lahir : jampang surade 17 agustus 45\n",
      "Jenis Kelamin : boti.\n",
      "Alamat : jl bogor\n",
      "No Telepon : 08963756237\n",
      "Email : anajay@gmail.com\n",
      "Status : ff\n"
     ]
    }
   ],
   "source": [
    "namaL = input(\"Isikan Nama Lengkap :\")\n",
    "TTL = input(\"Isikan Tempat Tanggal Lahir :\")\n",
    "jk = input(\"Isikan Jenis Kelamin :\")\n",
    "alamat = input(\"Isikan Alamat :\")\n",
    "notel = input(\"Isikan No Telepon :\")\n",
    "email = input(\"Isikan Email :\")\n",
    "status = input(\"Isikan Status :\")\n",
    "\n",
    "print(\"\\n --- Biodata Diri ---\")\n",
    "print(\"Nama Lengkap : {}\".format(namaL))\n",
    "print(\"Tempat Tanggal Lahir : {}\".format(TTL))\n",
    "print(\"Jenis Kelamin : {}.\".format(jk))\n",
    "print(\"Alamat : {}\".format(alamat))\n",
    "print(\"No Telepon : {}\".format(notel))\n",
    "print(\"Email : {}\".format(email))\n",
    "print(\"Status : {}\".format(status))"
   ]
  },
  {
   "cell_type": "markdown",
   "id": "146e2676-4466-4844-ac02-ff44d2fa8e16",
   "metadata": {},
   "source": [
    "<h1>Jika terdapat kalimat UNIVERSITAS NUSA PUTRA SUKABUMI ,buatlah kode program untuk menampilkan output: a. putra nusa b. NIVERSITAS NSA PTRA SKABMI c. SUKABUMI PUTRA NUSA UNIVERSITAS d. UNPS e. TAS SAPU BUMI</h1>"
   ]
  },
  {
   "cell_type": "code",
   "execution_count": 10,
   "id": "f46a28f3-f1d7-428e-8a61-da917dc0b74b",
   "metadata": {},
   "outputs": [
    {
     "name": "stdin",
     "output_type": "stream",
     "text": [
      "Masukan kalimat : UNIVERSITAS NUSA PUTRA SUKABUMI\n"
     ]
    },
    {
     "name": "stdout",
     "output_type": "stream",
     "text": [
      "\n",
      " a.PUTRA NUSA\n",
      "\n",
      " b.NIVERSITAS NSA PTRA SKABMI\n",
      "\n",
      " c.SUKABUMI PUTRA NUSA UNIVERSITAS\n",
      "\n",
      " d.UNPS\n",
      "\n",
      " e.TAS SAPU BUMI\n"
     ]
    }
   ],
   "source": [
    "kalimat = input(\"Masukan kalimat :\")\n",
    "#a. putra nusa\n",
    "print(\"\\n a.\", end = '')\n",
    "print(kalimat [17:22], end = ' ')#PUTRA\n",
    "print(kalimat [12:16])#NUSA\n",
    "#b. NIVERSITAS NSA PTRA SKABMI\n",
    "print(\"\\n b.\", end = '')\n",
    "print(kalimat [1:11], end = ' ')#NIVERSITAS\n",
    "print(kalimat [12], end = '')#N\n",
    "print(kalimat [14:16], end = ' ')#SA\n",
    "print(kalimat [17], end = '')#P\n",
    "print(kalimat [19:-9], end = ' ')#TRA\n",
    "print(kalimat [23], end = '')#S\n",
    "print(kalimat [25:28], end = '')#KAB\n",
    "print(kalimat [29:])#MI\n",
    "#c. SUKABUMI PUTRA NUSA UNIVERSITAS\n",
    "print(\"\\n c.\", end = '')\n",
    "print(kalimat [23:], end = ' ')#SUKABUMI\n",
    "print(kalimat [17:22], end = ' ')#PUTRA\n",
    "print(kalimat [12:16], end = ' ')#NUSA\n",
    "print(kalimat [0:11])#UNIVERSITAS\n",
    "#d. UNPS\n",
    "print(\"\\n d.\", end = '')\n",
    "print(kalimat [0], end = '')#U\n",
    "print(kalimat [12], end = '')#N\n",
    "print(kalimat [17], end = '')#P\n",
    "print(kalimat [23])#S\n",
    "print(\"\\n e.\", end = '')\n",
    "print(kalimat [8:11], end = ' ')#TAS\n",
    "print(kalimat [14:16], end = '')#SA\n",
    "print(kalimat [17:19], end = ' ')#PU\n",
    "print(kalimat [27:])#BUMI\n"
   ]
  }
 ],
 "metadata": {
  "kernelspec": {
   "display_name": "anaconda-2024.02-py310",
   "language": "python",
   "name": "conda-env-anaconda-2024.02-py310-py"
  },
  "language_info": {
   "codemirror_mode": {
    "name": "ipython",
    "version": 3
   },
   "file_extension": ".py",
   "mimetype": "text/x-python",
   "name": "python",
   "nbconvert_exporter": "python",
   "pygments_lexer": "ipython3",
   "version": "3.10.14"
  }
 },
 "nbformat": 4,
 "nbformat_minor": 5
}
