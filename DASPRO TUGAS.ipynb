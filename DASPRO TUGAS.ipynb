{
 "cells": [
  {
   "cell_type": "markdown",
   "id": "aed41e34-0ad4-4275-96f3-098dc0536955",
   "metadata": {},
   "source": [
    "<h1>OPERATOR ARITMATIKA</h1>"
   ]
  },
  {
   "cell_type": "code",
   "execution_count": 7,
   "id": "218d24a0-165a-4057-bd4b-80ed0cfc8b67",
   "metadata": {},
   "outputs": [
    {
     "name": "stdin",
     "output_type": "stream",
     "text": [
      "Isikan Jumlah Apel 55\n",
      "Isikan Jumlah Teman 4\n"
     ]
    },
    {
     "name": "stdout",
     "output_type": "stream",
     "text": [
      "Jumlah Apel Budi setelah dibagikan 55 // 4 = 13\n"
     ]
    },
    {
     "name": "stdin",
     "output_type": "stream",
     "text": [
      "Tambahkan Apel 34\n"
     ]
    },
    {
     "name": "stdout",
     "output_type": "stream",
     "text": [
      "Jumlah Apell setelah ditambahkan 55 + 34 = 89\n"
     ]
    }
   ],
   "source": [
    "x = int(input(\"Isikan Jumlah Apel\"))\n",
    "y = int(input(\"Isikan Jumlah Teman\"))\n",
    "\n",
    "hasilBagiBulat = x // y\n",
    "\n",
    "print(\"Jumlah Apel Budi setelah dibagikan\",x,\"//\",y,\"=\",hasilBagiBulat)\n",
    "\n",
    "z = int(input(\"Tambahkan Apel\"))\n",
    "\n",
    "hasilTambah = x + z\n",
    "\n",
    "\n",
    "print(\"Jumlah Apell setelah ditambahkan\",x,\"+\",z,\"=\",hasilTambah)"
   ]
  },
  {
   "cell_type": "markdown",
   "id": "f7ec0d84-7373-4d69-852b-ac7770d37ae8",
   "metadata": {},
   "source": [
    "<h1>OPERATOR PERBANDINGAN</h1>"
   ]
  },
  {
   "cell_type": "code",
   "execution_count": 2,
   "id": "e38e05ee-3d95-4562-bf1d-84b1c3d41f92",
   "metadata": {},
   "outputs": [
    {
     "name": "stdin",
     "output_type": "stream",
     "text": [
      "Isikan Tb Siti 156\n",
      "Isikan Tb Andi 170\n"
     ]
    },
    {
     "name": "stdout",
     "output_type": "stream",
     "text": [
      "Andi lebih tinggi dari Siti\n"
     ]
    }
   ],
   "source": [
    "x = int(input(\"Isikan Tb Siti\"))\n",
    "y = int(input(\"Isikan Tb Andi\"))\n",
    "\n",
    "if x > y:\n",
    "    print(\"Siti lebih tinggi dari Andi\")\n",
    "elif x < y:\n",
    "    print(\"Andi lebih tinggi dari Siti\")\n",
    "else:\n",
    "    print(\"Andi dan Siti tinggi nya sama\")"
   ]
  },
  {
   "cell_type": "code",
   "execution_count": 3,
   "id": "9c91a9e8-e669-4974-a839-ca4f9954e0e2",
   "metadata": {},
   "outputs": [
    {
     "name": "stdin",
     "output_type": "stream",
     "text": [
      "Isikan Tb Siti : 146\n",
      "Isikan Tb Andi : 170\n"
     ]
    },
    {
     "name": "stdout",
     "output_type": "stream",
     "text": [
      "Apakah Andi lebih tinggi?  True\n"
     ]
    }
   ],
   "source": [
    "x = int(input(\"Isikan Tb Siti :\"))\n",
    "y = int(input(\"Isikan Tb Andi :\"))\n",
    "z = x < y\n",
    "print(\"Apakah Andi lebih tinggi? \",z)"
   ]
  },
  {
   "cell_type": "markdown",
   "id": "c66fc2c2-9961-49a3-b29b-f71f6c06f6e1",
   "metadata": {},
   "source": [
    "<h1>OPERATOR LOGIKA</h1>"
   ]
  },
  {
   "cell_type": "code",
   "execution_count": 4,
   "id": "3565dab5-19a2-4807-9099-93dc6767c6d9",
   "metadata": {},
   "outputs": [
    {
     "name": "stdin",
     "output_type": "stream",
     "text": [
      "Apakah cuaca nya cerah? (ya/tidak) : ya\n",
      "Apakah Budi sudah menyelesaikan PR nya? (ya/tidak) : ya\n"
     ]
    },
    {
     "name": "stdout",
     "output_type": "stream",
     "text": [
      "Budi bisa bermain keluar\n"
     ]
    }
   ],
   "source": [
    "a = str(input(\"Apakah cuaca nya cerah? (ya/tidak) :\"))\n",
    "b = str(input(\"Apakah Budi sudah menyelesaikan PR nya? (ya/tidak) :\"))\n",
    "c = a and b\n",
    "\n",
    "if c:\n",
    "    print(\"Budi bisa bermain keluar\")\n",
    "else:\n",
    "    print(\"Budi tidak bisa bermain keluar\")"
   ]
  },
  {
   "cell_type": "code",
   "execution_count": 5,
   "id": "6bf5a8bd-cf87-4552-916d-cc122bb7c6d7",
   "metadata": {},
   "outputs": [
    {
     "name": "stdin",
     "output_type": "stream",
     "text": [
      "Apakah cuaca nya cerah? (ya/tidak) : tidak\n",
      "Apakah Budi sudah menyelesaikan PR nya? (ya/tidak) : tidak\n"
     ]
    },
    {
     "name": "stdout",
     "output_type": "stream",
     "text": [
      "Apakah Budi bisa main keluar? tidak\n"
     ]
    }
   ],
   "source": [
    "a = str(input(\"Apakah cuaca nya cerah? (ya/tidak) :\"))\n",
    "b = str(input(\"Apakah Budi sudah menyelesaikan PR nya? (ya/tidak) :\"))\n",
    "c = a and b\n",
    "\n",
    "print(\"Apakah Budi bisa main keluar?\",c)"
   ]
  },
  {
   "cell_type": "markdown",
   "id": "ec9afa65-1615-437a-bfb9-ca19cd80bace",
   "metadata": {},
   "source": [
    "<h1>OPERATOR BITWISE</h1>"
   ]
  },
  {
   "cell_type": "code",
   "execution_count": 1,
   "id": "f081187d-171a-4bd8-9c7b-a281bba1abed",
   "metadata": {},
   "outputs": [
    {
     "name": "stdin",
     "output_type": "stream",
     "text": [
      "Isikan angka 1 : 12\n",
      "Isikan angka 2 : 23\n"
     ]
    },
    {
     "name": "stdout",
     "output_type": "stream",
     "text": [
      "0b1100\n",
      "0b10111\n",
      "-----------------&\n",
      "0b100\n",
      "Hasil desimal AND adalah : 4\n",
      "0b1100\n",
      "0b10111\n",
      "---------------|\n",
      "0b11111\n",
      "Hasil desimal OR adalah : 31\n",
      "0b1100\n",
      "0b10111\n",
      "---------------^\n",
      "0b11011\n",
      "Hasil desimal XOR adalah : 27\n"
     ]
    }
   ],
   "source": [
    "bil1 = int(input(\"Isikan angka 1 :\"))\n",
    "bil2 = int(input(\"Isikan angka 2 :\"))\n",
    "\n",
    "#Bitwise AND (&)\n",
    "bitwiseAnd = bil1 & bil2\n",
    "print(bin(bil1))\n",
    "print(bin(bil2))\n",
    "print(\"-----------------&\")\n",
    "print(bin(bitwiseAnd))\n",
    "print(\"Hasil desimal AND adalah :\",bitwiseAnd)\n",
    "\n",
    "#Bitwise Or (|)\n",
    "bitwiseOr = bil1 | bil2\n",
    "print(bin(bil1))\n",
    "print(bin(bil2))\n",
    "print(\"---------------|\")\n",
    "print(bin(bitwiseOr))\n",
    "print(\"Hasil desimal OR adalah :\",bitwiseOr)\n",
    "\n",
    "#Bitwise XOR (^)\n",
    "bitwiseXOR = bil1 ^ bil2\n",
    "print(bin(bil1))\n",
    "print(bin(bil2))\n",
    "print(\"---------------^\")\n",
    "print(bin(bitwiseXOR))\n",
    "print(\"Hasil desimal XOR adalah :\",bitwiseXOR)"
   ]
  },
  {
   "cell_type": "markdown",
   "id": "809528ba-533f-41ed-b0a7-7fdaa10f81f9",
   "metadata": {},
   "source": [
    "<h1>OPERATOR PENUGASAN</h1>"
   ]
  },
  {
   "cell_type": "code",
   "execution_count": 2,
   "id": "e885ed93-887b-45c2-8493-214628540797",
   "metadata": {},
   "outputs": [
    {
     "name": "stdin",
     "output_type": "stream",
     "text": [
      "Isikan Saldo 2000\n"
     ]
    },
    {
     "name": "stdout",
     "output_type": "stream",
     "text": [
      "Saldo awal dari <Saldo> : 2000\n",
      "Saldo setelah diisi ulang : 22000\n",
      "Saldo setelah dibelikan paket : -8000\n",
      "Sisa Saldo nya adalah : -8000\n"
     ]
    }
   ],
   "source": [
    "nilai = int(input(\"Isikan Saldo\"))\n",
    "print(\"Saldo awal dari <Saldo> :\",nilai)\n",
    "nilai+= 20000\n",
    "print(\"Saldo setelah diisi ulang :\",nilai)\n",
    "nilai-= 30000\n",
    "print(\"Saldo setelah dibelikan paket :\",nilai)\n",
    "print(\"Sisa Saldo nya adalah :\",nilai)"
   ]
  },
  {
   "cell_type": "markdown",
   "id": "44f5a82d-cbad-4533-b3f1-8109c9306a35",
   "metadata": {},
   "source": [
    "<h1>OPERATOR KEANGGOTAAN</h1> "
   ]
  },
  {
   "cell_type": "code",
   "execution_count": 3,
   "id": "3c35aeea-e1d5-481c-8d01-987a840b7746",
   "metadata": {},
   "outputs": [
    {
     "name": "stdin",
     "output_type": "stream",
     "text": [
      "Isikan nama yang dicari : budi\n"
     ]
    },
    {
     "name": "stdout",
     "output_type": "stream",
     "text": [
      "Apakah nama tsb terdaftar sebagai peserta? False\n"
     ]
    },
    {
     "name": "stdin",
     "output_type": "stream",
     "text": [
      "Isikan kata yang dicari : epep\n"
     ]
    },
    {
     "name": "stdout",
     "output_type": "stream",
     "text": [
      "Apakah kata Python ada dalam kalimat? False\n"
     ]
    }
   ],
   "source": [
    "nama = input(\"Isikan nama yang dicari :\")\n",
    "listNama = [\"Andi\",\"Budi\",\"Citra\",\"Dewi\"]\n",
    "print(\"Apakah nama tsb terdaftar sebagai peserta?\", nama in listNama)\n",
    "\n",
    "kata = input(\"Isikan kata yang dicari :\")\n",
    "kalimat = \"Saya suka belajar Python\"\n",
    "print(\"Apakah kata Python ada dalam kalimat?\",kata in kalimat)"
   ]
  },
  {
   "cell_type": "markdown",
   "id": "e87c1d9d-6775-4f0d-9379-9bcee595a7ab",
   "metadata": {},
   "source": [
    "<h1>OPERATOR IDENTITAS</h1>"
   ]
  },
  {
   "cell_type": "code",
   "execution_count": 4,
   "id": "62a4b3e2-6fd5-4630-a6fc-dd4c1de54cbf",
   "metadata": {},
   "outputs": [
    {
     "name": "stdout",
     "output_type": "stream",
     "text": [
      "Memori address dari x 128079648162320\n",
      "Memori address dari y 128079648162320\n",
      "Apakah x adalah y? True\n",
      "Memori address dari a 128079596476160\n",
      "Memori address dari b 128079596478912\n",
      "Apakah a adalah b? False\n"
     ]
    }
   ],
   "source": [
    "x = 10\n",
    "y = 10\n",
    "\n",
    "print('Memori address dari x',id(x))\n",
    "print('Memori address dari y',id(y))\n",
    "print('Apakah x adalah y?',x is y)\n",
    "\n",
    "a = [4,7,8]\n",
    "b = [4,7,8]\n",
    "\n",
    "print('Memori address dari a',id(a))\n",
    "print('Memori address dari b',id(b))\n",
    "print('Apakah a adalah b?',a is b)"
   ]
  },
  {
   "cell_type": "markdown",
   "id": "1f5a3b1e-4506-4e0c-8de2-a413d89c4efb",
   "metadata": {},
   "source": [
    "<h1>OPERATOR TERNARY</h1>"
   ]
  },
  {
   "cell_type": "code",
   "execution_count": 6,
   "id": "383d8e26-278b-4eee-90d2-591f9b8f6656",
   "metadata": {},
   "outputs": [
    {
     "name": "stdin",
     "output_type": "stream",
     "text": [
      "Isikan angka : 56\n"
     ]
    },
    {
     "name": "stdout",
     "output_type": "stream",
     "text": [
      "Lebih kecil dari 100\n"
     ]
    },
    {
     "name": "stdin",
     "output_type": "stream",
     "text": [
      "Isikan nilai : 78\n"
     ]
    },
    {
     "name": "stdout",
     "output_type": "stream",
     "text": [
      "LULUS\n"
     ]
    }
   ],
   "source": [
    "number = int(input(\"Isikan angka :\"))\n",
    "AngkaLebihBesar = \"Lebih besar dari 100\" if number > 100 else \"Lebih kecil dari 100\"\n",
    "print(AngkaLebihBesar)\n",
    "\n",
    "nilai = int(input(\"Isikan nilai :\"))\n",
    "nilaiLulus = \"LULUS\" if nilai > 70 else \"Tidak Lulus\"\n",
    "print(nilaiLulus)"
   ]
  }
 ],
 "metadata": {
  "kernelspec": {
   "display_name": "anaconda-2024.02-py310",
   "language": "python",
   "name": "conda-env-anaconda-2024.02-py310-py"
  },
  "language_info": {
   "codemirror_mode": {
    "name": "ipython",
    "version": 3
   },
   "file_extension": ".py",
   "mimetype": "text/x-python",
   "name": "python",
   "nbconvert_exporter": "python",
   "pygments_lexer": "ipython3",
   "version": "3.10.14"
  }
 },
 "nbformat": 4,
 "nbformat_minor": 5
}
